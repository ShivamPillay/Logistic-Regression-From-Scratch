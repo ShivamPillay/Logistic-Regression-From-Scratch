{
 "cells": [
  {
   "cell_type": "markdown",
   "metadata": {},
   "source": [
    "## **PDAN8412 POE Part 2**\n",
    "### Shivam Mayur Pillay\n",
    "### ST10134058"
   ]
  },
  {
   "cell_type": "markdown",
   "metadata": {},
   "source": [
    "The data set is from Bhatt & Dhall (2012), the Skin Segmentation Data Set, the link to this data set is below \n",
    "\n",
    "https://archive.ics.uci.edu/ml/datasets/Skin+Segmentation"
   ]
  },
  {
   "cell_type": "markdown",
   "metadata": {},
   "source": [
    "#### __What is logistic regression?__\n",
    "\n",
    "According to Thanda (2022) Logistic Regression is a type of regression which predicts one of two outcomes such as a classification predicting if a bank transaction is fraudulent or not. Firstly regression is a type of predictive model which attempts to predict a target variable (y variable or dependent variable) using corresponding independent variables (x variables) (Thanda, 2022). This is done by finding the relationship or trends between these varaibles in order to make a prediction (Thanda, 2022).\n",
    "\n",
    "Logisitic regression is specifically designed to determine a binary outcome which can be a question with a yes or no answer or a positive or negative result as well as other types of dichotomous results/classifications (Thanda, 2022). Meaning the independent varibale needs to binary in nature (Thanda, 2022). The independent variable can be continous or discrete and even nominal or ordinal (with some data wrangling) (Thanda, 2022). There should also be little correlation between the independent variables as multicollinearty can cause issues (Thanda, 2022).\n",
    "\n",
    "It should be noted that there are also Multinomial and ordinal logistic regression models which are similar to the binary logistice model which will be used for the analysis below (Thanda, 2022). Logistic regression is not able to make a prediction on a continous dependent variabel and it makes an assumption that there is a linear relationship between the dependent and independent variables (Thanda, 2022). "
   ]
  },
  {
   "cell_type": "markdown",
   "metadata": {},
   "source": [
    "#### __Why the chosen data set is appropriate for analysis with logistic regression?__\n",
    "\n",
    "The Skin Segmentation Data Set has 4 columns with the target variable indicating a specific colour is skin or not. The independent varaibles show the amount of of Blue, Green and Red in each observation of colour. This type of analysis can aid in facial recognition software to determine which areas of an image is part of a face. \n",
    "\n",
    "This data set is approriate because the dependent variable is a binary classification (Skin or Non-skin) and it is a larger data set which was mentioned as important in the article by Thanda (2022). Additionally all of the independent variables are in a continous ratio format, making it ideal for logistic regression prediction. "
   ]
  },
  {
   "cell_type": "markdown",
   "metadata": {},
   "source": [
    "*****\n",
    "*****\n",
    "\n",
    "Below we import the data set form a txt file using a pandas function\n",
    "\n",
    "The Columns are labeled as per the data set description"
   ]
  },
  {
   "cell_type": "code",
   "execution_count": 1,
   "metadata": {},
   "outputs": [],
   "source": [
    "import pandas as pd\n",
    "\n",
    "df=pd.read_csv('Skin_NonSkin.txt', sep='\\t', header=None, names=['Blue','Green','Red','Skin'])\n",
    "\n",
    "# (The Pandas Development Team, 2022)"
   ]
  },
  {
   "cell_type": "markdown",
   "metadata": {},
   "source": [
    "Show the dataframe created below"
   ]
  },
  {
   "cell_type": "code",
   "execution_count": 2,
   "metadata": {},
   "outputs": [
    {
     "data": {
      "text/html": [
       "<div>\n",
       "<style scoped>\n",
       "    .dataframe tbody tr th:only-of-type {\n",
       "        vertical-align: middle;\n",
       "    }\n",
       "\n",
       "    .dataframe tbody tr th {\n",
       "        vertical-align: top;\n",
       "    }\n",
       "\n",
       "    .dataframe thead th {\n",
       "        text-align: right;\n",
       "    }\n",
       "</style>\n",
       "<table border=\"1\" class=\"dataframe\">\n",
       "  <thead>\n",
       "    <tr style=\"text-align: right;\">\n",
       "      <th></th>\n",
       "      <th>Blue</th>\n",
       "      <th>Green</th>\n",
       "      <th>Red</th>\n",
       "      <th>Skin</th>\n",
       "    </tr>\n",
       "  </thead>\n",
       "  <tbody>\n",
       "    <tr>\n",
       "      <th>0</th>\n",
       "      <td>74</td>\n",
       "      <td>85</td>\n",
       "      <td>123</td>\n",
       "      <td>1</td>\n",
       "    </tr>\n",
       "    <tr>\n",
       "      <th>1</th>\n",
       "      <td>73</td>\n",
       "      <td>84</td>\n",
       "      <td>122</td>\n",
       "      <td>1</td>\n",
       "    </tr>\n",
       "    <tr>\n",
       "      <th>2</th>\n",
       "      <td>72</td>\n",
       "      <td>83</td>\n",
       "      <td>121</td>\n",
       "      <td>1</td>\n",
       "    </tr>\n",
       "    <tr>\n",
       "      <th>3</th>\n",
       "      <td>70</td>\n",
       "      <td>81</td>\n",
       "      <td>119</td>\n",
       "      <td>1</td>\n",
       "    </tr>\n",
       "    <tr>\n",
       "      <th>4</th>\n",
       "      <td>70</td>\n",
       "      <td>81</td>\n",
       "      <td>119</td>\n",
       "      <td>1</td>\n",
       "    </tr>\n",
       "    <tr>\n",
       "      <th>...</th>\n",
       "      <td>...</td>\n",
       "      <td>...</td>\n",
       "      <td>...</td>\n",
       "      <td>...</td>\n",
       "    </tr>\n",
       "    <tr>\n",
       "      <th>245052</th>\n",
       "      <td>163</td>\n",
       "      <td>162</td>\n",
       "      <td>112</td>\n",
       "      <td>2</td>\n",
       "    </tr>\n",
       "    <tr>\n",
       "      <th>245053</th>\n",
       "      <td>163</td>\n",
       "      <td>162</td>\n",
       "      <td>112</td>\n",
       "      <td>2</td>\n",
       "    </tr>\n",
       "    <tr>\n",
       "      <th>245054</th>\n",
       "      <td>163</td>\n",
       "      <td>162</td>\n",
       "      <td>112</td>\n",
       "      <td>2</td>\n",
       "    </tr>\n",
       "    <tr>\n",
       "      <th>245055</th>\n",
       "      <td>163</td>\n",
       "      <td>162</td>\n",
       "      <td>112</td>\n",
       "      <td>2</td>\n",
       "    </tr>\n",
       "    <tr>\n",
       "      <th>245056</th>\n",
       "      <td>255</td>\n",
       "      <td>255</td>\n",
       "      <td>255</td>\n",
       "      <td>2</td>\n",
       "    </tr>\n",
       "  </tbody>\n",
       "</table>\n",
       "<p>245057 rows × 4 columns</p>\n",
       "</div>"
      ],
      "text/plain": [
       "        Blue  Green  Red  Skin\n",
       "0         74     85  123     1\n",
       "1         73     84  122     1\n",
       "2         72     83  121     1\n",
       "3         70     81  119     1\n",
       "4         70     81  119     1\n",
       "...      ...    ...  ...   ...\n",
       "245052   163    162  112     2\n",
       "245053   163    162  112     2\n",
       "245054   163    162  112     2\n",
       "245055   163    162  112     2\n",
       "245056   255    255  255     2\n",
       "\n",
       "[245057 rows x 4 columns]"
      ]
     },
     "execution_count": 2,
     "metadata": {},
     "output_type": "execute_result"
    }
   ],
   "source": [
    "df\n",
    "\n",
    "# (Refsnes Data, 2022)"
   ]
  },
  {
   "cell_type": "markdown",
   "metadata": {},
   "source": [
    "Show the shape of the dataframe, we can see there are 245057 observations and 4 columns (or attributes)"
   ]
  },
  {
   "cell_type": "code",
   "execution_count": 3,
   "metadata": {},
   "outputs": [
    {
     "data": {
      "text/plain": [
       "(245057, 4)"
      ]
     },
     "execution_count": 3,
     "metadata": {},
     "output_type": "execute_result"
    }
   ],
   "source": [
    "df.shape\n",
    "\n",
    "# (The Pandas Development Team, 2022)"
   ]
  },
  {
   "cell_type": "markdown",
   "metadata": {},
   "source": [
    "We check the data type in each column which shows all values are integers"
   ]
  },
  {
   "cell_type": "code",
   "execution_count": 4,
   "metadata": {},
   "outputs": [
    {
     "name": "stdout",
     "output_type": "stream",
     "text": [
      "<class 'pandas.core.frame.DataFrame'>\n",
      "RangeIndex: 245057 entries, 0 to 245056\n",
      "Data columns (total 4 columns):\n",
      " #   Column  Non-Null Count   Dtype\n",
      "---  ------  --------------   -----\n",
      " 0   Blue    245057 non-null  int64\n",
      " 1   Green   245057 non-null  int64\n",
      " 2   Red     245057 non-null  int64\n",
      " 3   Skin    245057 non-null  int64\n",
      "dtypes: int64(4)\n",
      "memory usage: 7.5 MB\n"
     ]
    }
   ],
   "source": [
    "df.info()\n",
    "\n",
    "# (The Pandas Development Team, 2022)"
   ]
  },
  {
   "cell_type": "markdown",
   "metadata": {},
   "source": [
    "Count for null values in any column (there are none)"
   ]
  },
  {
   "cell_type": "code",
   "execution_count": 5,
   "metadata": {},
   "outputs": [
    {
     "data": {
      "text/plain": [
       "Blue     0\n",
       "Green    0\n",
       "Red      0\n",
       "Skin     0\n",
       "dtype: int64"
      ]
     },
     "execution_count": 5,
     "metadata": {},
     "output_type": "execute_result"
    }
   ],
   "source": [
    "df.isnull().sum()\n",
    "\n",
    "# (Refsnes Data, 2022)"
   ]
  },
  {
   "cell_type": "markdown",
   "metadata": {},
   "source": [
    "Count the number of unique values in each columnn"
   ]
  },
  {
   "cell_type": "code",
   "execution_count": 6,
   "metadata": {},
   "outputs": [
    {
     "data": {
      "text/plain": [
       "Blue     256\n",
       "Green    256\n",
       "Red      256\n",
       "Skin       2\n",
       "dtype: int64"
      ]
     },
     "execution_count": 6,
     "metadata": {},
     "output_type": "execute_result"
    }
   ],
   "source": [
    "df.nunique(axis=0)\n",
    "\n",
    "# (Refsnes Data, 2022)"
   ]
  },
  {
   "cell_type": "markdown",
   "metadata": {},
   "source": [
    "Change all values labled '2' to '0' to clearly show that it is **_not_** a colour which represents skin"
   ]
  },
  {
   "cell_type": "code",
   "execution_count": 7,
   "metadata": {},
   "outputs": [],
   "source": [
    "df['Skin'] = df['Skin'].apply(lambda x: 0 if x == 2 else 1)\n",
    "\n",
    "# (Refsnes Data, 2022)"
   ]
  },
  {
   "cell_type": "markdown",
   "metadata": {},
   "source": [
    "Below we show a count plot of all values in each column"
   ]
  },
  {
   "cell_type": "code",
   "execution_count": 8,
   "metadata": {},
   "outputs": [
    {
     "data": {
      "image/png": "[encoded data removed]",
      "text/plain": [
       "<Figure size 432x288 with 4 Axes>"
      ]
     },
     "metadata": {
      "needs_background": "light"
     },
     "output_type": "display_data"
    }
   ],
   "source": [
    "import math\n",
    "from matplotlib import pyplot as plt\n",
    "\n",
    "size = math.ceil(df.shape[1]** (1/2))\n",
    "fig = plt.figure()\n",
    "\n",
    "for i, col in enumerate(df.columns):\n",
    "    fig.add_subplot(size, size, i + 1)\n",
    "    df[col].value_counts().plot(kind=\"bar\", ax=plt.gca(), title=col, rot=0)\n",
    "\n",
    "fig.tight_layout(rect=(1,1,3,3))\n",
    "\n",
    "# (The Matplotlib development team, 2022)"
   ]
  },
  {
   "cell_type": "markdown",
   "metadata": {},
   "source": [
    "Below show the exact count of non-skin and skin values\n",
    "\n",
    "There is a large difference between the number of observations (_ensure the training and testing split is stratified_)"
   ]
  },
  {
   "cell_type": "code",
   "execution_count": 9,
   "metadata": {},
   "outputs": [
    {
     "data": {
      "text/plain": [
       "0    194198\n",
       "1     50859\n",
       "Name: Skin, dtype: int64"
      ]
     },
     "execution_count": 9,
     "metadata": {},
     "output_type": "execute_result"
    }
   ],
   "source": [
    "df['Skin'].value_counts()\n",
    "\n",
    "# (Refsnes Data, 2022)"
   ]
  },
  {
   "cell_type": "markdown",
   "metadata": {},
   "source": [
    "Show the correlation between the columns below"
   ]
  },
  {
   "cell_type": "code",
   "execution_count": 10,
   "metadata": {},
   "outputs": [
    {
     "data": {
      "text/html": [
       "<div>\n",
       "<style scoped>\n",
       "    .dataframe tbody tr th:only-of-type {\n",
       "        vertical-align: middle;\n",
       "    }\n",
       "\n",
       "    .dataframe tbody tr th {\n",
       "        vertical-align: top;\n",
       "    }\n",
       "\n",
       "    .dataframe thead th {\n",
       "        text-align: right;\n",
       "    }\n",
       "</style>\n",
       "<table border=\"1\" class=\"dataframe\">\n",
       "  <thead>\n",
       "    <tr style=\"text-align: right;\">\n",
       "      <th></th>\n",
       "      <th>Blue</th>\n",
       "      <th>Green</th>\n",
       "      <th>Red</th>\n",
       "      <th>Skin</th>\n",
       "    </tr>\n",
       "  </thead>\n",
       "  <tbody>\n",
       "    <tr>\n",
       "      <th>Blue</th>\n",
       "      <td>1.00</td>\n",
       "      <td>0.86</td>\n",
       "      <td>0.50</td>\n",
       "      <td>-0.09</td>\n",
       "    </tr>\n",
       "    <tr>\n",
       "      <th>Green</th>\n",
       "      <td>0.86</td>\n",
       "      <td>1.00</td>\n",
       "      <td>0.66</td>\n",
       "      <td>0.12</td>\n",
       "    </tr>\n",
       "    <tr>\n",
       "      <th>Red</th>\n",
       "      <td>0.50</td>\n",
       "      <td>0.66</td>\n",
       "      <td>1.00</td>\n",
       "      <td>0.57</td>\n",
       "    </tr>\n",
       "    <tr>\n",
       "      <th>Skin</th>\n",
       "      <td>-0.09</td>\n",
       "      <td>0.12</td>\n",
       "      <td>0.57</td>\n",
       "      <td>1.00</td>\n",
       "    </tr>\n",
       "  </tbody>\n",
       "</table>\n",
       "</div>"
      ],
      "text/plain": [
       "       Blue  Green   Red  Skin\n",
       "Blue   1.00   0.86  0.50 -0.09\n",
       "Green  0.86   1.00  0.66  0.12\n",
       "Red    0.50   0.66  1.00  0.57\n",
       "Skin  -0.09   0.12  0.57  1.00"
      ]
     },
     "execution_count": 10,
     "metadata": {},
     "output_type": "execute_result"
    }
   ],
   "source": [
    "df.corr().round(2)\n",
    "\n",
    "# (Refsnes Data, 2022)"
   ]
  },
  {
   "cell_type": "markdown",
   "metadata": {},
   "source": [
    "Show the correlation above in a heatmap below\n",
    "\n",
    "Based on the results above and below we see that there is a verry low level of correlation between the target variable and independent variable Blue this could be a concern as there seems to be a relativly high correlation between Blue and Green\n",
    "\n",
    "The model was run with and without Blue however it showed a lower level of performance, therefore Blue was kept in the model."
   ]
  },
  {
   "cell_type": "code",
   "execution_count": 11,
   "metadata": {},
   "outputs": [
    {
     "data": {
      "text/plain": [
       "<AxesSubplot:>"
      ]
     },
     "execution_count": 11,
     "metadata": {},
     "output_type": "execute_result"
    },
    {
     "data": {
      "image/png": "[encoded data removed]",
      "text/plain": [
       "<Figure size 432x288 with 2 Axes>"
      ]
     },
     "metadata": {
      "needs_background": "light"
     },
     "output_type": "display_data"
    }
   ],
   "source": [
    "import seaborn as sns\n",
    "\n",
    "sns.heatmap(df.corr())\n",
    "\n",
    "# (Seaborn, 2012)"
   ]
  },
  {
   "cell_type": "markdown",
   "metadata": {},
   "source": [
    "Below set Skin as the Y value (target value) and the rest as the X values"
   ]
  },
  {
   "cell_type": "code",
   "execution_count": 12,
   "metadata": {},
   "outputs": [],
   "source": [
    "y=df['Skin']\n",
    "x=df.drop('Skin',axis=1)\n",
    "\n",
    "# (Refsnes Data, 2022)"
   ]
  },
  {
   "cell_type": "markdown",
   "metadata": {},
   "source": [
    "Split the dataset into a training and testing set\n",
    "\n",
    "Ensure that the split is stratified"
   ]
  },
  {
   "cell_type": "code",
   "execution_count": 13,
   "metadata": {},
   "outputs": [],
   "source": [
    "from sklearn.model_selection import train_test_split\n",
    "\n",
    "x_train,x_test,y_train,y_test= train_test_split (x,y,train_size=0.8,test_size=0.2,random_state=42,stratify=y)  \n",
    "\n",
    "# (Scikit-learn Developers, 2022)"
   ]
  },
  {
   "cell_type": "markdown",
   "metadata": {},
   "source": [
    "Scale the X variables below using the StandardScaler, this function scales each observations independent variables by subtracting the average and then dividing by the standard deviation. This sets all means to 0 and standard deviations to 1"
   ]
  },
  {
   "cell_type": "code",
   "execution_count": 14,
   "metadata": {},
   "outputs": [],
   "source": [
    "from sklearn.preprocessing import StandardScaler\n",
    "sc = StandardScaler()\n",
    "x_train = sc.fit_transform(x_train)\n",
    "x_test = sc.transform(x_test)\n",
    "\n",
    "# (Scikit-learn Developers, 2022)"
   ]
  },
  {
   "cell_type": "markdown",
   "metadata": {},
   "source": [
    "The Logistic Regression function which looks like an 'S' shape on a set of axis\n",
    "\n",
    "The Y axis starts at 1 and end at 0\n",
    "\n",
    "The middle of the 'S' like shape cuts the Y axis at exactly 0.5\n",
    "\n",
    "Based on the explination thus far one will be able to see that large positive values on the X axis will equal to 1 on the Y axis and large negative values on the X axis will be equal to 0 on the Y axis\n",
    "\n",
    "The values od 0 and 1 on the X axis are achived by creating the following formula:\n",
    "\n",
    "*****\n",
    "\n",
    "1 / ( 1  + _[negative exponentail value of X]_ )\n",
    "\n",
    "Where\n",
    "X = an array of the input values\n",
    "\n",
    "*****\n",
    "\n",
    "__For the Skin colour analysis conducted if the sigmoid function produces a value between 0 and 0.5 then it would be classified as Non-Skin, if the value is between 0.5 an 1 then it will be classified as Skin__\n",
    "\n",
    "The sigmoid equation is built in the cell below \n",
    "\n",
    "\n",
    "(Dash, 2022)"
   ]
  },
  {
   "cell_type": "code",
   "execution_count": 15,
   "metadata": {},
   "outputs": [],
   "source": [
    "import numpy as np\n",
    "\n",
    "def sigmoid(x):\n",
    "    return 1/(1+np.exp(-x))\n",
    "\n",
    "# (AssemblyAI, 2022)"
   ]
  },
  {
   "cell_type": "markdown",
   "metadata": {},
   "source": [
    "Showing the sigmoind function created above\n",
    "\n",
    "Create a numpy array starting at -10 and ending at 10 with an interval of 0.5 on the graph below for the x axis\n",
    "\n",
    "Create a corresponding y axis with the function created above\n",
    "\n",
    "The Red Line shows where the Y axis is cut by the 'S' shape\n",
    "\n",
    "The black line show the Y axis"
   ]
  },
  {
   "cell_type": "code",
   "execution_count": 16,
   "metadata": {},
   "outputs": [
    {
     "data": {
      "image/png": "[encoded data removed]",
      "text/plain": [
       "<Figure size 720x720 with 1 Axes>"
      ]
     },
     "metadata": {
      "needs_background": "light"
     },
     "output_type": "display_data"
    }
   ],
   "source": [
    "x_axis = np.arange(-10, 10, 0.5)\n",
    "y_axis = sigmoid(x_axis)\n",
    "\n",
    "red_line = np.array([0.5, 0.5, 0.5, 0.5, 0.5, 0.5, 0.5, 0.5, 0.5, 0.5, 0.5, 0.5, 0.5, 0.5, 0.5, 0.5, 0.5, 0.5, 0.5, 0.5,0.5, 0.5, 0.5, 0.5, 0.5, 0.5, 0.5, 0.5, 0.5, 0.5, 0.5, 0.5, 0.5, 0.5, 0.5, 0.5, 0.5, 0.5, 0.5, 0.5])\n",
    "black_linex = np.array([0, 0, 0, 0, 0, 0, 0, 0, 0, 0, 0, 0, 0, 0, 0, 0, 0, 0, 0, 0])\n",
    "black_liney = np.arange(0, 1, 0.05)\n",
    "\n",
    "plt.figure(figsize=(10,10))\n",
    "plt.plot(x_axis, y_axis)\n",
    "plt.plot(x_axis, red_line, linestyle='dashed', color='red')\n",
    "plt.plot(black_linex, black_liney , linestyle='solid', color='black')\n",
    "\n",
    "plt.xlim(-10,10)\n",
    "plt.ylim(-0.1,1.1)\n",
    "\n",
    "plt.show()\n",
    "\n",
    "\n",
    "# (NumPy Developers, 2022)\n",
    "# (The Matplotlib development team, 2022)\n"
   ]
  },
  {
   "cell_type": "markdown",
   "metadata": {},
   "source": [
    "We now build the LR model using the sigmoid function created above\n",
    "\n",
    "To build the model we need to include a cost function and use the gradient decent method\n",
    "\n",
    "__Cost Function__: This function will show how much the predicted values differe from the actual values. In this analysis it will determin whether or not the model was able to predict if the colour was Skin or Non-skin and how far off it was (ie: below 0.5 is Non-skin and above is Skin). For example if the model makes a prediction that it is Skin when it was actually Non-skin then the model will show a difference between the actual and predicition. When the loss function is plotted after each \"try/guess\" by the model is plotted onto a set of axis it will look like an inverted bell shape (convex shape) where the lowest point shows the smallest errors. The objective it to find the lowest point on that graph (the smallest cost/lost possible) to find the most efficent model, this is done using gradient descent.\n",
    "\n",
    "__Gradient Descent__: This is the function which optimizes the model based on the cost function (loss function). This considers the loss seen in the previous iteration of the model and determins the amount of change needed in the weights and bias of the model to find a lower cost/loss in the models predictability. IF you have to explain it in terms of the inverted bell curve, this function would determine how steep the point is at which the the loss function is at, then based on this the weights and bias will be changed by a predetermined learning rate. \n",
    "*****\n",
    "__More specifically** Gradient is worked out with the formula__:\n",
    "\n",
    "\n",
    "(the previous weight/bias from the previous iteration) - (the graidents of the weight and bias at that point * the learning rate)   \n",
    "*****\n",
    "\n",
    "\n",
    "__NB**__ Notes are in the middle of each definition\n",
    "\n",
    "\n",
    "(Dash, 2022)"
   ]
  },
  {
   "cell_type": "code",
   "execution_count": 17,
   "metadata": {},
   "outputs": [],
   "source": [
    "# Below we us the Class function explianed in Refsnes Data (2022) \n",
    "\n",
    "class LogisticRegression():\n",
    "    \n",
    "    # 1st I need to create the Learning Rate and the number of Iterations the model will run through to find the optimal model fit\n",
    "    # Set the default learning rate and iterations to 0.01 and 10  \n",
    "    # Start the weights and bias at 0 \n",
    "    \n",
    "    def __init__(self, lr=0.01, iters=10):\n",
    "        self.lr = lr\n",
    "        self.iters = iters\n",
    "        self.weights = 0\n",
    "        self.bias = 0\n",
    "        \n",
    "    # For the **Training** Stage\n",
    "    # Here we need to create the number of weights that will correspond to each feature (like each coeffiecient for each independent variable)\n",
    "    # Set an 1 bias as 0\n",
    "    \n",
    "    def fit(self, x, y):\n",
    "        n_samples, n_features = x.shape\n",
    "        self.weights = np.zeros(n_features)\n",
    "        self.bias = 0\n",
    "\n",
    "        # Now we need to feed the ALL of the x values multipled by the weights\n",
    "        # Add the bias\n",
    "        # Then feed to the sigmoid function we created earlier to create a prediction\n",
    "        \n",
    "        for _ in range(self.iters):\n",
    "            lin_pred = np.dot(x, self.weights) + self.bias\n",
    "            sig_pred = sigmoid(lin_pred)\n",
    "\n",
    "            # Here we are calculating the graidents for the weights and bias\n",
    "            \n",
    "            dw = (1/n_samples) * np.dot(x.T, (sig_pred - y))\n",
    "            db = (1/n_samples) * np.sum(sig_pred-y)\n",
    "\n",
    "            # Here we now change the weighs and bias for the next iteration (the change is due to the learning rate set above)\n",
    "             \n",
    "            self.weights = self.weights - self.lr*dw\n",
    "            self.bias = self.bias - self.lr*db\n",
    "\n",
    "    # Here we create predictions for the **TESTING** Stage\n",
    "    # 1st part is the same as when we created a prediction in the Training stage BUT we create a new variable for the  \n",
    "    \n",
    "    def predict(self, x):\n",
    "        lin_pred = np.dot(x, self.weights) + self.bias\n",
    "        y_pred = sigmoid(lin_pred)\n",
    "        \n",
    "        # Here we state that when the Y value falls below or equal to 0.5 then it is Non-skin but if the value is greater than 1 then it is skin \n",
    "        class_pred = [0 if y<=0.5 else 1 for y in y_pred]\n",
    "        return class_pred\n",
    "    \n",
    "     \n",
    "# (AssemblyAI, 2022)"
   ]
  },
  {
   "cell_type": "markdown",
   "metadata": {},
   "source": [
    "Now we asses how well the model makes predictions\n",
    "\n",
    "We find that the models accuracy is around: \n",
    "\n",
    "__87.32%__"
   ]
  },
  {
   "cell_type": "code",
   "execution_count": 18,
   "metadata": {},
   "outputs": [
    {
     "name": "stdout",
     "output_type": "stream",
     "text": [
      "0.8731535134252836\n"
     ]
    }
   ],
   "source": [
    "LR_model = LogisticRegression()\n",
    "LR_model.fit(x_train,y_train)\n",
    "y_pred = LR_model.predict(x_test)\n",
    "\n",
    "def accuracy(y_pred, y_test):\n",
    "    return np.sum(y_pred==y_test)/len(y_test)\n",
    "\n",
    "acc = accuracy(y_pred, y_test)\n",
    "print(acc)\n",
    "\n",
    "# (AssemblyAI, 2022)"
   ]
  },
  {
   "cell_type": "markdown",
   "metadata": {},
   "source": [
    "To try improve the model we adjust the hypertuning perameters\n",
    "\n",
    "The learning rate is increased to take __1__ whole step each time  \n",
    "\n",
    "The number of iterations is increased to __100__"
   ]
  },
  {
   "cell_type": "code",
   "execution_count": 19,
   "metadata": {},
   "outputs": [
    {
     "name": "stdout",
     "output_type": "stream",
     "text": [
      "0.9174691912184771\n"
     ]
    }
   ],
   "source": [
    "LR_model = LogisticRegression(lr=1,iters=100)\n",
    "LR_model.fit(x_train,y_train)\n",
    "y_pred = LR_model.predict(x_test)\n",
    "\n",
    "def accuracy(y_pred, y_test):\n",
    "    return np.sum(y_pred==y_test)/len(y_test)\n",
    "\n",
    "acc = accuracy(y_pred, y_test)\n",
    "print(acc)\n",
    "\n",
    "# (AssemblyAI, 2022)"
   ]
  },
  {
   "cell_type": "markdown",
   "metadata": {},
   "source": [
    "The model is now able to predict wheter a specific colour is Skin or Non-skin with __91.75%__ accuracy\n",
    "\n",
    "*****\n",
    "*****\n",
    "*****"
   ]
  },
  {
   "cell_type": "markdown",
   "metadata": {},
   "source": [
    "# Reference list \n",
    "\n",
    "AssemblyAI (2022) How to implement Logistic Regression from scratch with Python. [Online]. 14 September 2022. www.youtube.com. Available at: https://www.youtube.com/watch?v=YYEJ_GUguHw&ab_channel=AssemblyAI (Accessed: 15 October 2022).\n",
    "\n",
    "Bhatt, R. and Dhall, A. (2012) UCI Machine Learning Repository: Skin Segmentation Data Set. [Online]. 17 July 2012. Available at: https://archive.ics.uci.edu/ml/datasets/skin+segmentation (Accessed: 13 October 2022).\n",
    "\n",
    "Dash, S.K. (2022) Implementing Logistic Regression from Scratch using Python. [Online]. 3 February 2022. Available at: https://www.analyticsvidhya.com/blog/2022/02/implementing-logistic-regression-from-scratch-using-python/ (Accessed: 17 October 2022).\n",
    "\n",
    "NumPy Developers (2022) NumPy: the absolute basics for beginners — NumPy v1.22 Manual. [Online]. 2022. Available at: https://numpy.org/doc/stable/user/absolute_beginners.html#:~:text=NumPy%20can%20be%20used%20to (Accessed: 17 October 2022).\n",
    "\n",
    "Python Software Foundation (2009) Python 3.7.2 documentation. [Online]. 2009. Available at: https://www.python.org/ (Accessed: 17 October 2022).\n",
    "\n",
    "Refsnes Data (2022) Learn Python. [Online]. 2022. Available at: https://www.w3schools.com/python/default.asp (Accessed: 17 October 2022).\n",
    "\n",
    "Scikit-learn Developers (2022) scikit-learn: machine learning in Python — scikit-learn 0.20.3 documentation. [Online]. 2022. Available at: https://scikit-learn.org/stable/index.html (Accessed: 17 October 2022).\n",
    "\n",
    "Seaborn (2012) seaborn: statistical data visualization — seaborn 0.9.0 documentation. [Online]. 2012. Available at: https://seaborn.pydata.org/ (Accessed: 17 October 2022).\n",
    "\n",
    "Thanda, A. (2022) What is Logistic Regression? [Online]. 4 October 2022. Available at: https://careerfoundry.com/en/blog/data-analytics/what-is-logistic-regression/ (Accessed: 15 October 2022).\n",
    "\n",
    "The Matplotlib development team (2022) Matplotlib: Python plotting — Matplotlib 3.3.4 documentation. [Online]. 2022. Available at: https://matplotlib.org/stable/index.html (Accessed: 17 October 2022).\n",
    "\n",
    "The Pandas Development Team (2022) Pandas Documentation. [Online]. 6 April 2022. Available at: https://pandas.pydata.org/docs/index.html (Accessed: 17 October 2022)."
   ]
  }
 ],
 "metadata": {
  "kernelspec": {
   "display_name": "Python 3.10.6 64-bit",
   "language": "python",
   "name": "python3"
  },
  "language_info": {
   "codemirror_mode": {
    "name": "ipython",
    "version": 3
   },
   "file_extension": ".py",
   "mimetype": "text/x-python",
   "name": "python",
   "nbconvert_exporter": "python",
   "pygments_lexer": "ipython3",
   "version": "3.10.6"
  },
  "orig_nbformat": 4,
  "vscode": {
   "interpreter": {
    "hash": "97512231788fe9d8cdcdd23a281e8b68789edc895197c08aa337e8866310d78a"
   }
  }
 },
 "nbformat": 4,
 "nbformat_minor": 2
}
